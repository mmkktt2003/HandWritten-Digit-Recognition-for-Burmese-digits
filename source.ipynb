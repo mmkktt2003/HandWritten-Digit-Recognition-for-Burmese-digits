{
 "cells": [
  {
   "cell_type": "code",
   "execution_count": 1,
   "id": "7fa52ce2",
   "metadata": {},
   "outputs": [
    {
     "name": "stderr",
     "output_type": "stream",
     "text": [
      "C:\\Users\\Mel\\anaconda3\\lib\\site-packages\\scipy\\__init__.py:146: UserWarning: A NumPy version >=1.16.5 and <1.23.0 is required for this version of SciPy (detected version 1.26.4\n",
      "  warnings.warn(f\"A NumPy version >={np_minversion} and <{np_maxversion}\"\n"
     ]
    }
   ],
   "source": [
    "import tensorflow as tf\n",
    "from tensorflow.keras import layers\n",
    "from tensorflow.keras.preprocessing.image import ImageDataGenerator\n",
    "import pandas as pd\n",
    "import numpy as np\n",
    "import seaborn as sns\n",
    "import matplotlib.pyplot as plt\n",
    "import matplotlib.image as img\n",
    "%matplotlib inline\n",
    "np.random.seed(2)\n",
    "import os\n",
    "import cv2\n",
    "import random \n",
    "from sklearn.model_selection import train_test_split\n",
    "from sklearn.metrics import confusion_matrix\n",
    "import itertools\n",
    "import gzip \n",
    "import struct \n",
    "import matplotlib.pyplot as plt\n",
    "import tkinter as tk\n",
    "from PIL import Image, ImageDraw, ImageOps\n",
    "#Setting the Theme of the data visualizer Seaborn\n",
    "sns.set(style=\"dark\",context=\"notebook\",palette=\"muted\")"
   ]
  },
  {
   "cell_type": "code",
   "execution_count": 2,
   "id": "3746a4bb",
   "metadata": {},
   "outputs": [],
   "source": [
    "def load_images(filename):\n",
    "    # Open the file\n",
    "    with gzip.open(filename, 'rb') as f:\n",
    "        # Read the header information\n",
    "        magic_number = int.from_bytes(f.read(4), 'big')\n",
    "        number_of_images = int.from_bytes(f.read(4), 'big')\n",
    "        rows = int.from_bytes(f.read(4), 'big')\n",
    "        columns = int.from_bytes(f.read(4), 'big')\n",
    "        # Read the image data\n",
    "        buffer = f.read()\n",
    "        images = np.frombuffer(buffer, dtype=np.uint8).reshape(number_of_images, rows, columns)\n",
    "    return images\n",
    "\n",
    "def load_labels(filename):\n",
    "    # Open the file\n",
    "    with gzip.open(filename, 'rb') as f:\n",
    "        # Read the header information\n",
    "        magic_number = int.from_bytes(f.read(4), 'big')\n",
    "        number_of_labels = int.from_bytes(f.read(4), 'big')\n",
    "        # Read the label data\n",
    "        buffer = f.read()\n",
    "        labels = np.frombuffer(buffer, dtype=np.uint8)\n",
    "    return labels"
   ]
  },
  {
   "cell_type": "code",
   "execution_count": 12,
   "id": "2f626137",
   "metadata": {},
   "outputs": [
    {
     "name": "stdout",
     "output_type": "stream",
     "text": [
      "Training Labels Shape: (60000,)\n",
      "Test Images Shape: (27561, 28, 28)\n",
      "Test Labels Shape: (27561,)\n"
     ]
    }
   ],
   "source": [
    "# File paths to the hand-written digits data\n",
    "train_images_path = 'Resources/train-images-idx3-ubyte.gz'\n",
    "train_labels_path = 'Resources/train-labels-idx1-ubyte.gz'\n",
    "test_images_path = 'Resources/t10k-images-idx3-ubyte.gz'\n",
    "test_labels_path = 'Resources/t10k-labels-idx1-ubyte.gz'\n",
    "\n",
    "# Load the data\n",
    "X_train = load_images(train_images_path)\n",
    "y_train = load_labels(train_labels_path)\n",
    "test_images = load_images(test_images_path)\n",
    "test_labels = load_labels(test_labels_path)\n",
    "X_test, X_cv, y_test, y_cv = train_test_split(test_images, test_labels, test_size=0.1, random_state=42)\n",
    "X_train = X_train/255.0 \n",
    "X_test = X_test/255.0 \n",
    "X_cv = X_cv/255.0\n",
    "# Print the shapes to verify the data\n",
    "print(\"Training Labels Shape:\", train_labels.shape)\n",
    "print(\"Test Images Shape:\", test_images.shape)\n",
    "print(\"Test Labels Shape:\", test_labels.shape)\n"
   ]
  },
  {
   "cell_type": "code",
   "execution_count": 19,
   "id": "882fad36",
   "metadata": {},
   "outputs": [
    {
     "data": {
      "text/html": [
       "<pre style=\"white-space:pre;overflow-x:auto;line-height:normal;font-family:Menlo,'DejaVu Sans Mono',consolas,'Courier New',monospace\"><span style=\"font-weight: bold\">Model: \"sequential_4\"</span>\n",
       "</pre>\n"
      ],
      "text/plain": [
       "\u001b[1mModel: \"sequential_4\"\u001b[0m\n"
      ]
     },
     "metadata": {},
     "output_type": "display_data"
    },
    {
     "data": {
      "text/html": [
       "<pre style=\"white-space:pre;overflow-x:auto;line-height:normal;font-family:Menlo,'DejaVu Sans Mono',consolas,'Courier New',monospace\">┏━━━━━━━━━━━━━━━━━━━━━━━━━━━━━━━━━━━━━━┳━━━━━━━━━━━━━━━━━━━━━━━━━━━━━┳━━━━━━━━━━━━━━━━━┓\n",
       "┃<span style=\"font-weight: bold\"> Layer (type)                         </span>┃<span style=\"font-weight: bold\"> Output Shape                </span>┃<span style=\"font-weight: bold\">         Param # </span>┃\n",
       "┡━━━━━━━━━━━━━━━━━━━━━━━━━━━━━━━━━━━━━━╇━━━━━━━━━━━━━━━━━━━━━━━━━━━━━╇━━━━━━━━━━━━━━━━━┩\n",
       "│ dense_12 (<span style=\"color: #0087ff; text-decoration-color: #0087ff\">Dense</span>)                     │ (<span style=\"color: #00d7ff; text-decoration-color: #00d7ff\">None</span>, <span style=\"color: #00af00; text-decoration-color: #00af00\">784</span>)                 │         <span style=\"color: #00af00; text-decoration-color: #00af00\">615,440</span> │\n",
       "├──────────────────────────────────────┼─────────────────────────────┼─────────────────┤\n",
       "│ dense_13 (<span style=\"color: #0087ff; text-decoration-color: #0087ff\">Dense</span>)                     │ (<span style=\"color: #00d7ff; text-decoration-color: #00d7ff\">None</span>, <span style=\"color: #00af00; text-decoration-color: #00af00\">1024</span>)                │         <span style=\"color: #00af00; text-decoration-color: #00af00\">803,840</span> │\n",
       "├──────────────────────────────────────┼─────────────────────────────┼─────────────────┤\n",
       "│ dense_14 (<span style=\"color: #0087ff; text-decoration-color: #0087ff\">Dense</span>)                     │ (<span style=\"color: #00d7ff; text-decoration-color: #00d7ff\">None</span>, <span style=\"color: #00af00; text-decoration-color: #00af00\">2048</span>)                │       <span style=\"color: #00af00; text-decoration-color: #00af00\">2,099,200</span> │\n",
       "├──────────────────────────────────────┼─────────────────────────────┼─────────────────┤\n",
       "│ dense_15 (<span style=\"color: #0087ff; text-decoration-color: #0087ff\">Dense</span>)                     │ (<span style=\"color: #00d7ff; text-decoration-color: #00d7ff\">None</span>, <span style=\"color: #00af00; text-decoration-color: #00af00\">720</span>)                 │       <span style=\"color: #00af00; text-decoration-color: #00af00\">1,475,280</span> │\n",
       "├──────────────────────────────────────┼─────────────────────────────┼─────────────────┤\n",
       "│ dense_16 (<span style=\"color: #0087ff; text-decoration-color: #0087ff\">Dense</span>)                     │ (<span style=\"color: #00d7ff; text-decoration-color: #00d7ff\">None</span>, <span style=\"color: #00af00; text-decoration-color: #00af00\">360</span>)                 │         <span style=\"color: #00af00; text-decoration-color: #00af00\">259,560</span> │\n",
       "├──────────────────────────────────────┼─────────────────────────────┼─────────────────┤\n",
       "│ dense_17 (<span style=\"color: #0087ff; text-decoration-color: #0087ff\">Dense</span>)                     │ (<span style=\"color: #00d7ff; text-decoration-color: #00d7ff\">None</span>, <span style=\"color: #00af00; text-decoration-color: #00af00\">10</span>)                  │           <span style=\"color: #00af00; text-decoration-color: #00af00\">3,610</span> │\n",
       "└──────────────────────────────────────┴─────────────────────────────┴─────────────────┘\n",
       "</pre>\n"
      ],
      "text/plain": [
       "┏━━━━━━━━━━━━━━━━━━━━━━━━━━━━━━━━━━━━━━┳━━━━━━━━━━━━━━━━━━━━━━━━━━━━━┳━━━━━━━━━━━━━━━━━┓\n",
       "┃\u001b[1m \u001b[0m\u001b[1mLayer (type)                        \u001b[0m\u001b[1m \u001b[0m┃\u001b[1m \u001b[0m\u001b[1mOutput Shape               \u001b[0m\u001b[1m \u001b[0m┃\u001b[1m \u001b[0m\u001b[1m        Param #\u001b[0m\u001b[1m \u001b[0m┃\n",
       "┡━━━━━━━━━━━━━━━━━━━━━━━━━━━━━━━━━━━━━━╇━━━━━━━━━━━━━━━━━━━━━━━━━━━━━╇━━━━━━━━━━━━━━━━━┩\n",
       "│ dense_12 (\u001b[38;5;33mDense\u001b[0m)                     │ (\u001b[38;5;45mNone\u001b[0m, \u001b[38;5;34m784\u001b[0m)                 │         \u001b[38;5;34m615,440\u001b[0m │\n",
       "├──────────────────────────────────────┼─────────────────────────────┼─────────────────┤\n",
       "│ dense_13 (\u001b[38;5;33mDense\u001b[0m)                     │ (\u001b[38;5;45mNone\u001b[0m, \u001b[38;5;34m1024\u001b[0m)                │         \u001b[38;5;34m803,840\u001b[0m │\n",
       "├──────────────────────────────────────┼─────────────────────────────┼─────────────────┤\n",
       "│ dense_14 (\u001b[38;5;33mDense\u001b[0m)                     │ (\u001b[38;5;45mNone\u001b[0m, \u001b[38;5;34m2048\u001b[0m)                │       \u001b[38;5;34m2,099,200\u001b[0m │\n",
       "├──────────────────────────────────────┼─────────────────────────────┼─────────────────┤\n",
       "│ dense_15 (\u001b[38;5;33mDense\u001b[0m)                     │ (\u001b[38;5;45mNone\u001b[0m, \u001b[38;5;34m720\u001b[0m)                 │       \u001b[38;5;34m1,475,280\u001b[0m │\n",
       "├──────────────────────────────────────┼─────────────────────────────┼─────────────────┤\n",
       "│ dense_16 (\u001b[38;5;33mDense\u001b[0m)                     │ (\u001b[38;5;45mNone\u001b[0m, \u001b[38;5;34m360\u001b[0m)                 │         \u001b[38;5;34m259,560\u001b[0m │\n",
       "├──────────────────────────────────────┼─────────────────────────────┼─────────────────┤\n",
       "│ dense_17 (\u001b[38;5;33mDense\u001b[0m)                     │ (\u001b[38;5;45mNone\u001b[0m, \u001b[38;5;34m10\u001b[0m)                  │           \u001b[38;5;34m3,610\u001b[0m │\n",
       "└──────────────────────────────────────┴─────────────────────────────┴─────────────────┘\n"
      ]
     },
     "metadata": {},
     "output_type": "display_data"
    },
    {
     "data": {
      "text/html": [
       "<pre style=\"white-space:pre;overflow-x:auto;line-height:normal;font-family:Menlo,'DejaVu Sans Mono',consolas,'Courier New',monospace\"><span style=\"font-weight: bold\"> Total params: </span><span style=\"color: #00af00; text-decoration-color: #00af00\">5,256,930</span> (20.05 MB)\n",
       "</pre>\n"
      ],
      "text/plain": [
       "\u001b[1m Total params: \u001b[0m\u001b[38;5;34m5,256,930\u001b[0m (20.05 MB)\n"
      ]
     },
     "metadata": {},
     "output_type": "display_data"
    },
    {
     "data": {
      "text/html": [
       "<pre style=\"white-space:pre;overflow-x:auto;line-height:normal;font-family:Menlo,'DejaVu Sans Mono',consolas,'Courier New',monospace\"><span style=\"font-weight: bold\"> Trainable params: </span><span style=\"color: #00af00; text-decoration-color: #00af00\">5,256,930</span> (20.05 MB)\n",
       "</pre>\n"
      ],
      "text/plain": [
       "\u001b[1m Trainable params: \u001b[0m\u001b[38;5;34m5,256,930\u001b[0m (20.05 MB)\n"
      ]
     },
     "metadata": {},
     "output_type": "display_data"
    },
    {
     "data": {
      "text/html": [
       "<pre style=\"white-space:pre;overflow-x:auto;line-height:normal;font-family:Menlo,'DejaVu Sans Mono',consolas,'Courier New',monospace\"><span style=\"font-weight: bold\"> Non-trainable params: </span><span style=\"color: #00af00; text-decoration-color: #00af00\">0</span> (0.00 B)\n",
       "</pre>\n"
      ],
      "text/plain": [
       "\u001b[1m Non-trainable params: \u001b[0m\u001b[38;5;34m0\u001b[0m (0.00 B)\n"
      ]
     },
     "metadata": {},
     "output_type": "display_data"
    }
   ],
   "source": [
    "model = tf.keras.models.Sequential([\n",
    "    # Input layer\n",
    "    tf.keras.layers.Input(shape=(28, 28, 1)),\n",
    "    # First Convolutional Block\n",
    "    tf.keras.layers.Conv2D(32, (3, 3), activation='relu', padding='same'),\n",
    "    tf.keras.layers.BatchNormalization(),\n",
    "    tf.keras.layers.Conv2D(32, (3, 3), activation='relu', padding='same'),\n",
    "    tf.keras.layers.BatchNormalization(),\n",
    "    tf.keras.layers.MaxPooling2D((3, 3)),\n",
    "    # Fully Connected Layers\n",
    "    tf.keras.layers.Flatten(),\n",
    "    tf.keras.layers.Dense(128, activation='relu'),\n",
    "    tf.keras.layers.Dense(10, activation='softmax')  # 10 classes for digits 0-9\n",
    "])\n",
    "\n",
    "model.compile(\n",
    "    loss=tf.keras.losses.SparseCategoricalCrossentropy(),\n",
    "    optimizer=tf.keras.optimizers.Adam(learning_rate=0.001),\n",
    "    metrics=['accuracy']\n",
    ")\n",
    "\n",
    "model.summary()\n"
   ]
  },
  {
   "cell_type": "markdown",
   "id": "54074665",
   "metadata": {},
   "source": [
    "model.fit(X_train,y_train)"
   ]
  },
  {
   "cell_type": "code",
   "execution_count": 20,
   "id": "141b5e1b",
   "metadata": {},
   "outputs": [
    {
     "data": {
      "image/png": "[encoded data removed]",
      "text/plain": [
       "<Figure size 720x144 with 10 Axes>"
      ]
     },
     "metadata": {},
     "output_type": "display_data"
    }
   ],
   "source": [
    "# Selecting a few images to observe better \n",
    "num_images_to_show = 10\n",
    "indices = np.random.choice(len(X_cv), num_images_to_show, replace=False)\n",
    "\n",
    "plt.figure(figsize=(10, 2))\n",
    "\n",
    "for i, idx in enumerate(indices):\n",
    "    plt.subplot(1, num_images_to_show, i + 1)\n",
    "    plt.imshow(X_train[idx].reshape(28, 28), cmap='gray')  # Assuming images are 28x28 pixels\n",
    "    plt.title(f\"Label: {y_train[idx]}\")\n",
    "    plt.axis('off')\n",
    "\n",
    "plt.show()\n"
   ]
  },
  {
   "cell_type": "code",
   "execution_count": 22,
   "id": "d1447963",
   "metadata": {},
   "outputs": [
    {
     "name": "stdout",
     "output_type": "stream",
     "text": [
      "Epoch 1/3\n"
     ]
    },
    {
     "ename": "ValueError",
     "evalue": "Exception encountered when calling Sequential.call().\n\n\u001b[1mInvalid input shape for input Tensor(\"data:0\", shape=(50, 28, 28), dtype=float32). Expected shape (None, 784), but input has incompatible shape (50, 28, 28)\u001b[0m\n\nArguments received by Sequential.call():\n  • inputs=tf.Tensor(shape=(50, 28, 28), dtype=float32)\n  • training=True\n  • mask=None",
     "output_type": "error",
     "traceback": [
      "\u001b[1;31m---------------------------------------------------------------------------\u001b[0m",
      "\u001b[1;31mValueError\u001b[0m                                Traceback (most recent call last)",
      "\u001b[1;32m~\\AppData\\Local\\Temp/ipykernel_53020/2967366415.py\u001b[0m in \u001b[0;36m<module>\u001b[1;34m\u001b[0m\n\u001b[1;32m----> 1\u001b[1;33m \u001b[0mmodel\u001b[0m\u001b[1;33m.\u001b[0m\u001b[0mfit\u001b[0m\u001b[1;33m(\u001b[0m\u001b[0mX_train\u001b[0m\u001b[1;33m,\u001b[0m\u001b[0my_train\u001b[0m\u001b[1;33m,\u001b[0m \u001b[0mepochs\u001b[0m\u001b[1;33m=\u001b[0m\u001b[1;36m3\u001b[0m\u001b[1;33m,\u001b[0m \u001b[0mbatch_size\u001b[0m\u001b[1;33m=\u001b[0m\u001b[1;36m50\u001b[0m\u001b[1;33m)\u001b[0m\u001b[1;33m\u001b[0m\u001b[1;33m\u001b[0m\u001b[0m\n\u001b[0m",
      "\u001b[1;32m~\\anaconda3\\lib\\site-packages\\keras\\src\\utils\\traceback_utils.py\u001b[0m in \u001b[0;36merror_handler\u001b[1;34m(*args, **kwargs)\u001b[0m\n\u001b[0;32m    120\u001b[0m             \u001b[1;31m# To get the full stack trace, call:\u001b[0m\u001b[1;33m\u001b[0m\u001b[1;33m\u001b[0m\u001b[0m\n\u001b[0;32m    121\u001b[0m             \u001b[1;31m# `keras.config.disable_traceback_filtering()`\u001b[0m\u001b[1;33m\u001b[0m\u001b[1;33m\u001b[0m\u001b[0m\n\u001b[1;32m--> 122\u001b[1;33m             \u001b[1;32mraise\u001b[0m \u001b[0me\u001b[0m\u001b[1;33m.\u001b[0m\u001b[0mwith_traceback\u001b[0m\u001b[1;33m(\u001b[0m\u001b[0mfiltered_tb\u001b[0m\u001b[1;33m)\u001b[0m \u001b[1;32mfrom\u001b[0m \u001b[1;32mNone\u001b[0m\u001b[1;33m\u001b[0m\u001b[1;33m\u001b[0m\u001b[0m\n\u001b[0m\u001b[0;32m    123\u001b[0m         \u001b[1;32mfinally\u001b[0m\u001b[1;33m:\u001b[0m\u001b[1;33m\u001b[0m\u001b[1;33m\u001b[0m\u001b[0m\n\u001b[0;32m    124\u001b[0m             \u001b[1;32mdel\u001b[0m \u001b[0mfiltered_tb\u001b[0m\u001b[1;33m\u001b[0m\u001b[1;33m\u001b[0m\u001b[0m\n",
      "\u001b[1;32m~\\anaconda3\\lib\\site-packages\\keras\\src\\models\\functional.py\u001b[0m in \u001b[0;36m_adjust_input_rank\u001b[1;34m(self, flat_inputs)\u001b[0m\n\u001b[0;32m    242\u001b[0m                     \u001b[0madjusted\u001b[0m\u001b[1;33m.\u001b[0m\u001b[0mappend\u001b[0m\u001b[1;33m(\u001b[0m\u001b[0mops\u001b[0m\u001b[1;33m.\u001b[0m\u001b[0mexpand_dims\u001b[0m\u001b[1;33m(\u001b[0m\u001b[0mx\u001b[0m\u001b[1;33m,\u001b[0m \u001b[0maxis\u001b[0m\u001b[1;33m=\u001b[0m\u001b[1;33m-\u001b[0m\u001b[1;36m1\u001b[0m\u001b[1;33m)\u001b[0m\u001b[1;33m)\u001b[0m\u001b[1;33m\u001b[0m\u001b[1;33m\u001b[0m\u001b[0m\n\u001b[0;32m    243\u001b[0m                     \u001b[1;32mcontinue\u001b[0m\u001b[1;33m\u001b[0m\u001b[1;33m\u001b[0m\u001b[0m\n\u001b[1;32m--> 244\u001b[1;33m             raise ValueError(\n\u001b[0m\u001b[0;32m    245\u001b[0m                 \u001b[1;34mf\"Invalid input shape for input {x}. Expected shape \"\u001b[0m\u001b[1;33m\u001b[0m\u001b[1;33m\u001b[0m\u001b[0m\n\u001b[0;32m    246\u001b[0m                 \u001b[1;34mf\"{ref_shape}, but input has incompatible shape {x.shape}\"\u001b[0m\u001b[1;33m\u001b[0m\u001b[1;33m\u001b[0m\u001b[0m\n",
      "\u001b[1;31mValueError\u001b[0m: Exception encountered when calling Sequential.call().\n\n\u001b[1mInvalid input shape for input Tensor(\"data:0\", shape=(50, 28, 28), dtype=float32). Expected shape (None, 784), but input has incompatible shape (50, 28, 28)\u001b[0m\n\nArguments received by Sequential.call():\n  • inputs=tf.Tensor(shape=(50, 28, 28), dtype=float32)\n  • training=True\n  • mask=None"
     ]
    }
   ],
   "source": [
    "model.fit(X_train,y_train, validation_data=(X_cv, y_cv), epochs=3, batch_size=50)"
   ]
  },
  {
   "cell_type": "code",
   "execution_count": 16,
   "id": "6e3627e5",
   "metadata": {
    "scrolled": true
   },
   "outputs": [
    {
     "name": "stdout",
     "output_type": "stream",
     "text": [
      "\u001b[1m862/862\u001b[0m \u001b[32m━━━━━━━━━━━━━━━━━━━━\u001b[0m\u001b[37m\u001b[0m \u001b[1m4s\u001b[0m 5ms/step - accuracy: 0.8040 - loss: 198.5704\n"
     ]
    }
   ],
   "source": [
    "#evaluate accuracy on test set\n",
    "test_loss, test_accuracy = model.evaluate(test_images,test_labels)"
   ]
  },
  {
   "cell_type": "code",
   "execution_count": 17,
   "id": "7cc81ecd",
   "metadata": {
    "scrolled": true
   },
   "outputs": [
    {
     "data": {
      "image/png": "[encoded data removed]",
      "text/plain": [
       "<Figure size 432x288 with 1 Axes>"
      ]
     },
     "metadata": {},
     "output_type": "display_data"
    },
    {
     "name": "stdout",
     "output_type": "stream",
     "text": [
      "\u001b[1m1/1\u001b[0m \u001b[32m━━━━━━━━━━━━━━━━━━━━\u001b[0m\u001b[37m\u001b[0m \u001b[1m0s\u001b[0m 111ms/step\n",
      "Digit 0: 0.0000\n",
      "Digit 1: 0.0000\n",
      "Digit 2: 0.0000\n",
      "Digit 3: 0.0000\n",
      "Digit 4: 0.0000\n",
      "Digit 5: 1.0000\n",
      "Digit 6: 0.0000\n",
      "Digit 7: 0.0000\n",
      "Digit 8: 0.0000\n",
      "Digit 9: 0.0000\n"
     ]
    },
    {
     "data": {
      "image/png": "[encoded data removed]",
      "text/plain": [
       "<Figure size 432x288 with 1 Axes>"
      ]
     },
     "metadata": {},
     "output_type": "display_data"
    },
    {
     "name": "stdout",
     "output_type": "stream",
     "text": [
      "\u001b[1m1/1\u001b[0m \u001b[32m━━━━━━━━━━━━━━━━━━━━\u001b[0m\u001b[37m\u001b[0m \u001b[1m0s\u001b[0m 31ms/step\n",
      "Digit 0: 0.0000\n",
      "Digit 1: 0.0000\n",
      "Digit 2: 0.0000\n",
      "Digit 3: 0.0000\n",
      "Digit 4: 1.0000\n",
      "Digit 5: 0.0000\n",
      "Digit 6: 0.0000\n",
      "Digit 7: 0.0000\n",
      "Digit 8: 0.0000\n",
      "Digit 9: 0.0000\n"
     ]
    },
    {
     "data": {
      "image/png": "[encoded data removed]",
      "text/plain": [
       "<Figure size 432x288 with 1 Axes>"
      ]
     },
     "metadata": {},
     "output_type": "display_data"
    },
    {
     "name": "stdout",
     "output_type": "stream",
     "text": [
      "\u001b[1m1/1\u001b[0m \u001b[32m━━━━━━━━━━━━━━━━━━━━\u001b[0m\u001b[37m\u001b[0m \u001b[1m0s\u001b[0m 40ms/step\n",
      "Digit 0: 0.0000\n",
      "Digit 1: 0.0000\n",
      "Digit 2: 0.0000\n",
      "Digit 3: 0.0000\n",
      "Digit 4: 0.0000\n",
      "Digit 5: 0.0000\n",
      "Digit 6: 0.0000\n",
      "Digit 7: 0.0000\n",
      "Digit 8: 1.0000\n",
      "Digit 9: 0.0000\n"
     ]
    },
    {
     "data": {
      "image/png": "[encoded data removed]",
      "text/plain": [
       "<Figure size 432x288 with 1 Axes>"
      ]
     },
     "metadata": {},
     "output_type": "display_data"
    },
    {
     "name": "stdout",
     "output_type": "stream",
     "text": [
      "\u001b[1m1/1\u001b[0m \u001b[32m━━━━━━━━━━━━━━━━━━━━\u001b[0m\u001b[37m\u001b[0m \u001b[1m0s\u001b[0m 36ms/step\n",
      "Digit 0: 0.0000\n",
      "Digit 1: 0.0000\n",
      "Digit 2: 0.0000\n",
      "Digit 3: 0.0000\n",
      "Digit 4: 1.0000\n",
      "Digit 5: 0.0000\n",
      "Digit 6: 0.0000\n",
      "Digit 7: 0.0000\n",
      "Digit 8: 0.0000\n",
      "Digit 9: 0.0000\n"
     ]
    },
    {
     "data": {
      "image/png": "[encoded data removed]",
      "text/plain": [
       "<Figure size 432x288 with 1 Axes>"
      ]
     },
     "metadata": {},
     "output_type": "display_data"
    },
    {
     "name": "stdout",
     "output_type": "stream",
     "text": [
      "\u001b[1m1/1\u001b[0m \u001b[32m━━━━━━━━━━━━━━━━━━━━\u001b[0m\u001b[37m\u001b[0m \u001b[1m0s\u001b[0m 35ms/step\n",
      "Digit 0: 0.0000\n",
      "Digit 1: 0.0000\n",
      "Digit 2: 0.0000\n",
      "Digit 3: 0.0000\n",
      "Digit 4: 1.0000\n",
      "Digit 5: 0.0000\n",
      "Digit 6: 0.0000\n",
      "Digit 7: 0.0000\n",
      "Digit 8: 0.0000\n",
      "Digit 9: 0.0000\n"
     ]
    },
    {
     "data": {
      "image/png": "[encoded data removed]",
      "text/plain": [
       "<Figure size 432x288 with 1 Axes>"
      ]
     },
     "metadata": {},
     "output_type": "display_data"
    },
    {
     "name": "stdout",
     "output_type": "stream",
     "text": [
      "\u001b[1m1/1\u001b[0m \u001b[32m━━━━━━━━━━━━━━━━━━━━\u001b[0m\u001b[37m\u001b[0m \u001b[1m0s\u001b[0m 32ms/step\n",
      "Digit 0: 0.0000\n",
      "Digit 1: 0.0000\n",
      "Digit 2: 0.0000\n",
      "Digit 3: 0.0000\n",
      "Digit 4: 1.0000\n",
      "Digit 5: 0.0000\n",
      "Digit 6: 0.0000\n",
      "Digit 7: 0.0000\n",
      "Digit 8: 0.0000\n",
      "Digit 9: 0.0000\n"
     ]
    },
    {
     "data": {
      "image/png": "[encoded data removed]",
      "text/plain": [
       "<Figure size 432x288 with 1 Axes>"
      ]
     },
     "metadata": {},
     "output_type": "display_data"
    },
    {
     "name": "stdout",
     "output_type": "stream",
     "text": [
      "\u001b[1m1/1\u001b[0m \u001b[32m━━━━━━━━━━━━━━━━━━━━\u001b[0m\u001b[37m\u001b[0m \u001b[1m0s\u001b[0m 35ms/step\n",
      "Digit 0: 0.0000\n",
      "Digit 1: 0.0000\n",
      "Digit 2: 0.0000\n",
      "Digit 3: 0.0000\n",
      "Digit 4: 0.0000\n",
      "Digit 5: 1.0000\n",
      "Digit 6: 0.0000\n",
      "Digit 7: 0.0000\n",
      "Digit 8: 0.0000\n",
      "Digit 9: 0.0000\n"
     ]
    },
    {
     "data": {
      "image/png": "[encoded data removed]",
      "text/plain": [
       "<Figure size 432x288 with 1 Axes>"
      ]
     },
     "metadata": {},
     "output_type": "display_data"
    },
    {
     "name": "stdout",
     "output_type": "stream",
     "text": [
      "\u001b[1m1/1\u001b[0m \u001b[32m━━━━━━━━━━━━━━━━━━━━\u001b[0m\u001b[37m\u001b[0m \u001b[1m0s\u001b[0m 33ms/step\n",
      "Digit 0: 0.0000\n",
      "Digit 1: 0.0000\n",
      "Digit 2: 0.0000\n",
      "Digit 3: 1.0000\n",
      "Digit 4: 0.0000\n",
      "Digit 5: 0.0000\n",
      "Digit 6: 0.0000\n",
      "Digit 7: 0.0000\n",
      "Digit 8: 0.0000\n",
      "Digit 9: 0.0000\n"
     ]
    },
    {
     "data": {
      "image/png": "[encoded data removed]",
      "text/plain": [
       "<Figure size 432x288 with 1 Axes>"
      ]
     },
     "metadata": {},
     "output_type": "display_data"
    },
    {
     "name": "stdout",
     "output_type": "stream",
     "text": [
      "\u001b[1m1/1\u001b[0m \u001b[32m━━━━━━━━━━━━━━━━━━━━\u001b[0m\u001b[37m\u001b[0m \u001b[1m0s\u001b[0m 21ms/step\n",
      "Digit 0: 0.0000\n",
      "Digit 1: 0.0000\n",
      "Digit 2: 0.0000\n",
      "Digit 3: 0.0000\n",
      "Digit 4: 1.0000\n",
      "Digit 5: 0.0000\n",
      "Digit 6: 0.0000\n",
      "Digit 7: 0.0000\n",
      "Digit 8: 0.0000\n",
      "Digit 9: 0.0000\n"
     ]
    },
    {
     "data": {
      "image/png": "[encoded data removed]",
      "text/plain": [
       "<Figure size 432x288 with 1 Axes>"
      ]
     },
     "metadata": {},
     "output_type": "display_data"
    },
    {
     "name": "stdout",
     "output_type": "stream",
     "text": [
      "\u001b[1m1/1\u001b[0m \u001b[32m━━━━━━━━━━━━━━━━━━━━\u001b[0m\u001b[37m\u001b[0m \u001b[1m0s\u001b[0m 35ms/step\n",
      "Digit 0: 0.0000\n",
      "Digit 1: 0.0000\n",
      "Digit 2: 0.0000\n",
      "Digit 3: 0.0004\n",
      "Digit 4: 0.0000\n",
      "Digit 5: 0.0000\n",
      "Digit 6: 0.0000\n",
      "Digit 7: 0.0000\n",
      "Digit 8: 0.0000\n",
      "Digit 9: 0.9996\n"
     ]
    },
    {
     "data": {
      "image/png": "[encoded data removed]",
      "text/plain": [
       "<Figure size 432x288 with 1 Axes>"
      ]
     },
     "metadata": {},
     "output_type": "display_data"
    },
    {
     "name": "stdout",
     "output_type": "stream",
     "text": [
      "\u001b[1m1/1\u001b[0m \u001b[32m━━━━━━━━━━━━━━━━━━━━\u001b[0m\u001b[37m\u001b[0m \u001b[1m0s\u001b[0m 32ms/step\n",
      "Digit 0: 0.0000\n",
      "Digit 1: 0.0000\n",
      "Digit 2: 0.0000\n",
      "Digit 3: 0.0000\n",
      "Digit 4: 0.0000\n",
      "Digit 5: 0.0000\n",
      "Digit 6: 0.0000\n",
      "Digit 7: 0.0000\n",
      "Digit 8: 0.0000\n",
      "Digit 9: 1.0000\n"
     ]
    },
    {
     "data": {
      "image/png": "[encoded data removed]",
      "text/plain": [
       "<Figure size 432x288 with 1 Axes>"
      ]
     },
     "metadata": {},
     "output_type": "display_data"
    },
    {
     "name": "stdout",
     "output_type": "stream",
     "text": [
      "\u001b[1m1/1\u001b[0m \u001b[32m━━━━━━━━━━━━━━━━━━━━\u001b[0m\u001b[37m\u001b[0m \u001b[1m0s\u001b[0m 35ms/step\n",
      "Digit 0: 0.0000\n",
      "Digit 1: 0.0000\n",
      "Digit 2: 0.0000\n",
      "Digit 3: 0.0000\n",
      "Digit 4: 1.0000\n",
      "Digit 5: 0.0000\n",
      "Digit 6: 0.0000\n",
      "Digit 7: 0.0000\n",
      "Digit 8: 0.0000\n",
      "Digit 9: 0.0000\n"
     ]
    },
    {
     "data": {
      "image/png": "[encoded data removed]",
      "text/plain": [
       "<Figure size 432x288 with 1 Axes>"
      ]
     },
     "metadata": {},
     "output_type": "display_data"
    },
    {
     "name": "stdout",
     "output_type": "stream",
     "text": [
      "\u001b[1m1/1\u001b[0m \u001b[32m━━━━━━━━━━━━━━━━━━━━\u001b[0m\u001b[37m\u001b[0m \u001b[1m0s\u001b[0m 31ms/step\n",
      "Digit 0: 0.0000\n",
      "Digit 1: 0.0000\n",
      "Digit 2: 0.0000\n",
      "Digit 3: 1.0000\n",
      "Digit 4: 0.0000\n",
      "Digit 5: 0.0000\n",
      "Digit 6: 0.0000\n",
      "Digit 7: 0.0000\n",
      "Digit 8: 0.0000\n",
      "Digit 9: 0.0000\n"
     ]
    }
   ],
   "source": [
    "class DigitRecognizerApp:\n",
    "    def __init__(self, model):\n",
    "        self.model = model\n",
    "        self.window = tk.Tk()\n",
    "        self.window.title(\"Digit Recognizer\")\n",
    "        self.canvas = tk.Canvas(self.window, width=200, height=200, bg='white')\n",
    "        self.canvas.grid(row=0, column=0, pady=2, sticky=tk.W, columnspan=2)\n",
    "        self.button_predict = tk.Button(self.window, text=\"Predict\", command=self.predict_digit)\n",
    "        self.button_predict.grid(row=1, column=0, pady=2, padx=2)\n",
    "        self.button_clear = tk.Button(self.window, text=\"Clear\", command=self.clear_canvas)\n",
    "        self.button_clear.grid(row=1, column=1, pady=2, padx=2)\n",
    "        self.label_result = tk.Label(self.window, text=\"Draw a digit and click Predict\", font=(\"Helvetica\", 16))\n",
    "        self.label_result.grid(row=2, column=0, columnspan=2)\n",
    "        self.canvas.bind(\"<B1-Motion>\", self.draw)\n",
    "        self.image = Image.new(\"L\", (200, 200), 255)\n",
    "        self.draw_image = ImageDraw.Draw(self.image)\n",
    "\n",
    "    def draw(self, event):\n",
    "        x, y = event.x, event.y\n",
    "        r = 3\n",
    "        self.canvas.create_oval(x-r, y-r, x+r, y+r, fill=\"black\")\n",
    "        self.draw_image.ellipse([x-r, y-r, x+r, y+r], fill=\"black\")\n",
    "\n",
    "    def clear_canvas(self):\n",
    "        self.canvas.delete(\"all\")\n",
    "        self.draw_image.rectangle((0, 0, 200, 200), fill=\"white\")\n",
    "        self.label_result.config(text=\"Draw a digit and click Predict\")\n",
    "\n",
    "    def predict_digit(self):\n",
    "    # Convert the canvas to an image\n",
    "        image = self.image.convert('L')  # Convert to grayscale ('L' mode)\n",
    "    # Resize the image to 28x28 pixels, as the model expects\n",
    "        image_resized = image.resize((28, 28))\n",
    "    # Invert the image (MNIST digits are white on black background)\n",
    "        image_inverted = ImageOps.invert(image_resized)\n",
    "    # Convert the image to a numpy array and normalize it\n",
    "        image_array = np.array(image_inverted) # Normalize to [0, 1]\n",
    "    # Reshape the array to match the input shape expected by the model\n",
    "        image_array = image_array.reshape(-1, 28, 28, 1)\n",
    "    # Visualize the preprocessed image before prediction (optional for debugging)\n",
    "        plt.imshow(image_array.reshape(28, 28), cmap='gray')\n",
    "        plt.title(\"Preprocessed Image\")\n",
    "        plt.show()\n",
    "    # Predict the digit using the trained model\n",
    "        prediction = self.model.predict(image_array)\n",
    "    # Print the probabilities for each digit\n",
    "        for i, prob in enumerate(prediction[0]):\n",
    "            print(f\"Digit {i}: {prob:.4f}\")\n",
    "    # Determine the most likely digit\n",
    "        digit = np.argmax(prediction)\n",
    "    # Update the result label with the predicted digit\n",
    "        self.label_result.config(text=f\"Predicted Digit: {digit}\")\n",
    "        \n",
    "    def run(self):\n",
    "        self.window.mainloop()\n",
    "\n",
    "# Create and run the application\n",
    "app = DigitRecognizerApp(model)\n",
    "app.run()\n"
   ]
  },
  {
   "cell_type": "code",
   "execution_count": null,
   "id": "f7c830b1",
   "metadata": {},
   "outputs": [],
   "source": []
  },
  {
   "cell_type": "code",
   "execution_count": null,
   "id": "76b2b7a3",
   "metadata": {},
   "outputs": [],
   "source": []
  },
  {
   "cell_type": "code",
   "execution_count": null,
   "id": "c075e6eb",
   "metadata": {},
   "outputs": [],
   "source": []
  },
  {
   "cell_type": "code",
   "execution_count": null,
   "id": "55a21f12",
   "metadata": {},
   "outputs": [],
   "source": []
  },
  {
   "cell_type": "code",
   "execution_count": null,
   "id": "8b2dcd84",
   "metadata": {},
   "outputs": [],
   "source": []
  },
  {
   "cell_type": "code",
   "execution_count": null,
   "id": "a8f71321",
   "metadata": {},
   "outputs": [],
   "source": []
  },
  {
   "cell_type": "code",
   "execution_count": null,
   "id": "d70aa241",
   "metadata": {},
   "outputs": [],
   "source": []
  },
  {
   "cell_type": "code",
   "execution_count": null,
   "id": "e69fc61e",
   "metadata": {},
   "outputs": [],
   "source": []
  },
  {
   "cell_type": "code",
   "execution_count": null,
   "id": "09679b70",
   "metadata": {},
   "outputs": [],
   "source": []
  }
 ],
 "metadata": {
  "kernelspec": {
   "display_name": "Python 3 (ipykernel)",
   "language": "python",
   "name": "python3"
  },
  "language_info": {
   "codemirror_mode": {
    "name": "ipython",
    "version": 3
   },
   "file_extension": ".py",
   "mimetype": "text/x-python",
   "name": "python",
   "nbconvert_exporter": "python",
   "pygments_lexer": "ipython3",
   "version": "3.9.7"
  }
 },
 "nbformat": 4,
 "nbformat_minor": 5
}
